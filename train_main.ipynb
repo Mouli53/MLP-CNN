{
  "nbformat": 4,
  "nbformat_minor": 0,
  "metadata": {
    "kernelspec": {
      "display_name": "Python 3",
      "language": "python",
      "name": "python3"
    },
    "language_info": {
      "codemirror_mode": {
        "name": "ipython",
        "version": 3
      },
      "file_extension": ".py",
      "mimetype": "text/x-python",
      "name": "python",
      "nbconvert_exporter": "python",
      "pygments_lexer": "ipython3",
      "version": "3.8.8"
    },
    "colab": {
      "name": "cw1-train_main.ipynb",
      "provenance": [],
      "collapsed_sections": []
    }
  },
  "cells": [
    {
      "cell_type": "code",
      "metadata": {
        "id": "iPN5_YBRgcLS"
      },
      "source": [
        "import pandas as pd\n",
        "import numpy as np\n",
        "import sklearn\n",
        "import seaborn as sn\n",
        "import matplotlib.pyplot as plt\n",
        "from sklearn.metrics import accuracy_score\n",
        "from sklearn.metrics import confusion_matrix\n",
        "from sklearn.model_selection import train_test_split\n",
        "from sklearn.feature_extraction.text import TfidfVectorizer\n",
        "\n",
        "from sklearn.naive_bayes import MultinomialNB\n",
        "from sklearn.ensemble import RandomForestClassifier\n",
        "from sklearn.svm import LinearSVC\n",
        "from sklearn.linear_model import LogisticRegression\n",
        "from sklearn.manifold import TSNE\n",
        "from sklearn.metrics import classification_report\n",
        "from numpy.random import seed\n",
        "seed(1)\n",
        "import warnings\n",
        "warnings.filterwarnings('ignore')"
      ],
      "execution_count": null,
      "outputs": []
    },
    {
      "cell_type": "code",
      "metadata": {
        "id": "gCmweWHlfJN9"
      },
      "source": [
        "# this function will load the dataset coursework1_train.csv and will \n",
        "# remove all the duplicates present in the dataset\n",
        "def create_dataframe(): \n",
        "    data = pd.read_csv(\"coursework1_train.csv\")\n",
        "    data = data.drop(columns=['Unnamed: 0'])\n",
        "    data['category_id'] = data['sentiment'].factorize()[0]\n",
        "    category_id_df = data[['sentiment', 'category_id']].drop_duplicates().sort_values('category_id')\n",
        "    return data, category_id_df"
      ],
      "execution_count": null,
      "outputs": []
    },
    {
      "cell_type": "code",
      "metadata": {
        "id": "SLgdSpxHhBZ5"
      },
      "source": [
        "'''\n",
        "Now comes the pre-processing part. The TF-IDF vectorizer remap the words in the 40000 different samples\n",
        "in the text column of data frame into features (superset of words) with an importance assigned based \n",
        "on each words frequency in the document and across documents. There were many unwanted words present \n",
        "in the text column of the data which were handled by removing them using the stop-word feature \n",
        "of TF-IDF vectorizer. The maximum number of features was chosen to be 2500 words based on the size \n",
        "of the samples and the length of the vocabulary.\n",
        "'''\n",
        "def preprocessing(df):\n",
        "    max_feature_num = 2500\n",
        "    tfidf = TfidfVectorizer(max_features=max_feature_num, stop_words='english')\n",
        "    features = tfidf.fit_transform(df.text).toarray() \n",
        "    labels = df.category_id\n",
        "    return tfidf, features, labels"
      ],
      "execution_count": null,
      "outputs": []
    },
    {
      "cell_type": "code",
      "metadata": {
        "colab": {
          "base_uri": "https://localhost:8080/"
        },
        "id": "GMesatbmehs2",
        "outputId": "59ac08f4-41c9-427a-8e50-380de5490df6"
      },
      "source": [
        "# Here we are calling the create dataframe function to load the dataset\n",
        "df, category_id_df = create_dataframe()\n",
        "category_to_id = dict(category_id_df.values)\n",
        "id_to_category = dict(category_id_df[['sentiment', 'category_id']].values)\n",
        "id_to_category"
      ],
      "execution_count": null,
      "outputs": [
        {
          "output_type": "execute_result",
          "data": {
            "text/plain": [
              "{'neg': 0, 'pos': 1}"
            ]
          },
          "metadata": {
            "tags": []
          },
          "execution_count": 107
        }
      ]
    },
    {
      "cell_type": "code",
      "metadata": {
        "colab": {
          "base_uri": "https://localhost:8080/",
          "height": 206
        },
        "id": "SkovEZaqhBOJ",
        "outputId": "64cb5c1d-51a4-4fa7-988f-1938526f1700"
      },
      "source": [
        "df.sample(5, random_state=42)"
      ],
      "execution_count": null,
      "outputs": [
        {
          "output_type": "execute_result",
          "data": {
            "text/html": [
              "<div>\n",
              "<style scoped>\n",
              "    .dataframe tbody tr th:only-of-type {\n",
              "        vertical-align: middle;\n",
              "    }\n",
              "\n",
              "    .dataframe tbody tr th {\n",
              "        vertical-align: top;\n",
              "    }\n",
              "\n",
              "    .dataframe thead th {\n",
              "        text-align: right;\n",
              "    }\n",
              "</style>\n",
              "<table border=\"1\" class=\"dataframe\">\n",
              "  <thead>\n",
              "    <tr style=\"text-align: right;\">\n",
              "      <th></th>\n",
              "      <th>text</th>\n",
              "      <th>sentiment</th>\n",
              "      <th>category_id</th>\n",
              "    </tr>\n",
              "  </thead>\n",
              "  <tbody>\n",
              "    <tr>\n",
              "      <th>32823</th>\n",
              "      <td>The dazzling seventeen-minute dance sequence o...</td>\n",
              "      <td>pos</td>\n",
              "      <td>1</td>\n",
              "    </tr>\n",
              "    <tr>\n",
              "      <th>16298</th>\n",
              "      <td>I have watched this movie twice in the past si...</td>\n",
              "      <td>neg</td>\n",
              "      <td>0</td>\n",
              "    </tr>\n",
              "    <tr>\n",
              "      <th>28505</th>\n",
              "      <td>On his birthday a small boys tells his mother ...</td>\n",
              "      <td>neg</td>\n",
              "      <td>0</td>\n",
              "    </tr>\n",
              "    <tr>\n",
              "      <th>6689</th>\n",
              "      <td>I really enjoyed Fierce People. I discovered t...</td>\n",
              "      <td>pos</td>\n",
              "      <td>1</td>\n",
              "    </tr>\n",
              "    <tr>\n",
              "      <th>26893</th>\n",
              "      <td>Director John Madden, of Shakespeare in Love f...</td>\n",
              "      <td>neg</td>\n",
              "      <td>0</td>\n",
              "    </tr>\n",
              "  </tbody>\n",
              "</table>\n",
              "</div>"
            ],
            "text/plain": [
              "                                                    text sentiment  category_id\n",
              "32823  The dazzling seventeen-minute dance sequence o...       pos            1\n",
              "16298  I have watched this movie twice in the past si...       neg            0\n",
              "28505  On his birthday a small boys tells his mother ...       neg            0\n",
              "6689   I really enjoyed Fierce People. I discovered t...       pos            1\n",
              "26893  Director John Madden, of Shakespeare in Love f...       neg            0"
            ]
          },
          "metadata": {
            "tags": []
          },
          "execution_count": 108
        }
      ]
    },
    {
      "cell_type": "code",
      "metadata": {
        "colab": {
          "base_uri": "https://localhost:8080/",
          "height": 306
        },
        "id": "j-4_dAWlhBB6",
        "outputId": "ab196ff5-9e01-43ec-92d6-d39362586d99"
      },
      "source": [
        "'''\n",
        "we plotted a bar graph showing the distribution of the labels in the dataset. \n",
        "We find that both positive and negative labels are equally distributed with 20000 samples in each label.\n",
        "'''\n",
        "df.groupby('sentiment').category_id.count().plot.bar(ylim=0)"
      ],
      "execution_count": null,
      "outputs": [
        {
          "output_type": "execute_result",
          "data": {
            "text/plain": [
              "<matplotlib.axes._subplots.AxesSubplot at 0x7fbd2ea02790>"
            ]
          },
          "metadata": {
            "tags": []
          },
          "execution_count": 109
        },
        {
          "output_type": "display_data",
          "data": {
            "image/png": "[encoded data removed]",
            "text/plain": [
              "<Figure size 432x288 with 1 Axes>"
            ]
          },
          "metadata": {
            "tags": [],
            "needs_background": "light"
          }
        }
      ]
    },
    {
      "cell_type": "code",
      "metadata": {
        "id": "xGPph7s9hsdW"
      },
      "source": [
        "tfidf, features, labels = preprocessing(df)"
      ],
      "execution_count": null,
      "outputs": []
    },
    {
      "cell_type": "code",
      "metadata": {
        "id": "pwZTl8glhsUQ"
      },
      "source": [
        "np.random.seed(0)\n",
        "# Randomly select 3 % of samples\n",
        "index = np.random.choice(range(len(features)), size=int(len(features)*0.03), replace=False)          \n",
        "# Array of all projected features of 30% of Randomly chosen samples\n",
        "projected_features = TSNE(n_components=2, random_state=0).fit_transform(features[index])  "
      ],
      "execution_count": null,
      "outputs": []
    },
    {
      "cell_type": "code",
      "metadata": {
        "colab": {
          "base_uri": "https://localhost:8080/",
          "height": 283
        },
        "id": "PtKn5BBkhA0v",
        "outputId": "f458ea5b-9684-4731-9e55-a703ff8ce94d"
      },
      "source": [
        "colors = ['midnightblue', 'orange']\n",
        "# Find points belonging to each category and plot them\n",
        "for category, category_id in sorted(category_to_id.items()):\n",
        "    points = projected_features[(labels[index] == category_id).values]\n",
        "    plt.scatter(points[:, 0], points[:, 1], s=30, c=colors[category_id], label=category)\n",
        "plt.title(\"tf-idf feature vector for each article, projected on 2 dimensions.\",fontdict=dict(fontsize=15))\n",
        "plt.legend(bbox_to_anchor=(1.04,1), loc=\"upper left\")\n",
        "plt.show()"
      ],
      "execution_count": null,
      "outputs": [
        {
          "output_type": "display_data",
          "data": {
            "image/png": "[encoded data removed]",
            "text/plain": [
              "<Figure size 432x288 with 1 Axes>"
            ]
          },
          "metadata": {
            "tags": [],
            "needs_background": "light"
          }
        }
      ]
    },
    {
      "cell_type": "code",
      "metadata": {
        "id": "NkgMG-Jfhofs"
      },
      "source": [
        "'''\n",
        "Here we split the dataset into train and test (30% test) using sklearn library\n",
        "'''\n",
        "X_train, X_test, y_train, y_test = train_test_split(features, labels, test_size=0.3, random_state=42)"
      ],
      "execution_count": null,
      "outputs": []
    },
    {
      "cell_type": "code",
      "metadata": {
        "id": "UyB4SfRlhoTi"
      },
      "source": [
        "## These functions will evaluate the model (by first training the model and then testing it)\n",
        "\n",
        "def print_estimator_name(estimator):\n",
        "    print(estimator.__class__.__name__)\n",
        "\n",
        "def evaluate(model, X_train, X_test, y_train, y_test):\n",
        "    print_estimator_name(model)\n",
        "    #Train Algorithm\n",
        "    model.fit(X_train, y_train)\n",
        "    # Make Predictions\n",
        "    y_pred = model.predict(X_test)\n",
        "    print('Accuracy of the model is:', round(accuracy_score(y_pred,y_test),4))"
      ],
      "execution_count": null,
      "outputs": []
    },
    {
      "cell_type": "code",
      "metadata": {
        "id": "rJ2vd01qkKeG"
      },
      "source": [
        "models = [MultinomialNB(), LinearSVC(random_state=42 ,tol=1e-06), RandomForestClassifier(max_depth=2, random_state=42), LogisticRegression(random_state=42)]"
      ],
      "execution_count": null,
      "outputs": []
    },
    {
      "cell_type": "code",
      "metadata": {
        "colab": {
          "base_uri": "https://localhost:8080/"
        },
        "id": "C-vvMoSqhoJv",
        "outputId": "30732792-f86d-4723-b3db-86a754816342"
      },
      "source": [
        "for model in models:\n",
        "    evaluate(model,X_train, X_test, y_train, y_test)\n",
        "    print()"
      ],
      "execution_count": null,
      "outputs": [
        {
          "output_type": "stream",
          "text": [
            "MultinomialNB\n",
            "Accuracy of the model is: 0.8488\n",
            "\n",
            "LinearSVC\n",
            "Accuracy of the model is: 0.8699\n",
            "\n",
            "RandomForestClassifier\n",
            "Accuracy of the model is: 0.7898\n",
            "\n",
            "LogisticRegression\n",
            "Accuracy of the model is: 0.8814\n",
            "\n"
          ],
          "name": "stdout"
        }
      ]
    },
    {
      "cell_type": "code",
      "metadata": {
        "colab": {
          "base_uri": "https://localhost:8080/"
        },
        "id": "yyIxz4LMosh7",
        "outputId": "8053db8d-4097-4709-920a-436d64756844"
      },
      "source": [
        "model = LogisticRegression(random_state=42)\n",
        "model.fit(X_train,y_train)\n",
        "# Make Predictions\n",
        "y_pred = model.predict(X_test)\n",
        "print('Accuracy of the model is:', round(accuracy_score(y_pred,y_test),4))"
      ],
      "execution_count": null,
      "outputs": [
        {
          "output_type": "stream",
          "text": [
            "Accuracy of the model is: 0.8814\n"
          ],
          "name": "stdout"
        }
      ]
    },
    {
      "cell_type": "code",
      "metadata": {
        "colab": {
          "base_uri": "https://localhost:8080/",
          "height": 499
        },
        "id": "rC403pQil9Gy",
        "outputId": "95494c17-5faf-4d21-f57c-a5a2852984e3"
      },
      "source": [
        "# Printing the confusion matrix\n",
        "cm = confusion_matrix(y_true=y_test,y_pred=y_pred)\n",
        "sn.heatmap(cm, annot=True, fmt='d', xticklabels=category_id_df.sentiment.values, yticklabels=category_id_df.sentiment.values)\n",
        "plt.ylabel('Actual')\n",
        "plt.xlabel('Predicted')\n",
        "plt.show()\n",
        "## Print the classification report\n",
        "target_names = df['sentiment'].unique()\n",
        "print('\\nClassification Report\\n')\n",
        "print(classification_report(y_test, y_pred, target_names=target_names))"
      ],
      "execution_count": null,
      "outputs": [
        {
          "output_type": "display_data",
          "data": {
            "image/png": "[encoded data removed]",
            "text/plain": [
              "<Figure size 432x288 with 2 Axes>"
            ]
          },
          "metadata": {
            "tags": [],
            "needs_background": "light"
          }
        },
        {
          "output_type": "stream",
          "text": [
            "\n",
            "Classification Report\n",
            "\n",
            "              precision    recall  f1-score   support\n",
            "\n",
            "         neg       0.89      0.87      0.88      6040\n",
            "         pos       0.87      0.89      0.88      5960\n",
            "\n",
            "    accuracy                           0.88     12000\n",
            "   macro avg       0.88      0.88      0.88     12000\n",
            "weighted avg       0.88      0.88      0.88     12000\n",
            "\n"
          ],
          "name": "stdout"
        }
      ]
    },
    {
      "cell_type": "code",
      "metadata": {
        "id": "cm6Qp4wfehtx"
      },
      "source": [
        "import pickle\n",
        "\n",
        "# save model and other necessary modules\n",
        "all_info_want_to_save = {\n",
        "    'model': model,\n",
        "    'vectorizer': TfidfVectorizer(max_features=2500,vocabulary=tfidf.vocabulary_)\n",
        "}\n",
        "\n",
        "with open(\"trained_model.pickle\",\"wb\") as save_path:\n",
        "    pickle.dump(all_info_want_to_save, save_path)"
      ],
      "execution_count": null,
      "outputs": []
    },
    {
      "cell_type": "code",
      "metadata": {
        "id": "Jn51mAMJBfhz"
      },
      "source": [
        ""
      ],
      "execution_count": null,
      "outputs": []
    }
  ]
}