{
  "nbformat": 4,
  "nbformat_minor": 0,
  "metadata": {
    "kernelspec": {
      "display_name": "Python 3",
      "language": "python",
      "name": "python3"
    },
    "language_info": {
      "codemirror_mode": {
        "name": "ipython",
        "version": 3
      },
      "file_extension": ".py",
      "mimetype": "text/x-python",
      "name": "python",
      "nbconvert_exporter": "python",
      "pygments_lexer": "ipython3",
      "version": "3.8.8"
    },
    "colab": {
      "name": "cw1-test_main.ipynb",
      "provenance": [],
      "collapsed_sections": []
    }
  },
  "cells": [
    {
      "cell_type": "code",
      "metadata": {
        "id": "q1_oT2LGqtsf"
      },
      "source": [
        "import pickle\n",
        "import pandas as pd\n",
        "import numpy as np\n",
        "from sklearn.metrics import precision_recall_fscore_support,accuracy_score"
      ],
      "execution_count": null,
      "outputs": []
    },
    {
      "cell_type": "code",
      "metadata": {
        "id": "Q0SDvAfYGW53"
      },
      "source": [
        "# same function which we created in train script\n",
        "def create_dataframe(): \n",
        "    data = pd.read_csv(\"coursework1_train.csv\")\n",
        "    data = data.drop(columns=['Unnamed: 0'])\n",
        "    data['category_id'] = data['sentiment'].factorize()[0]\n",
        "    category_id_df = data[['sentiment', 'category_id']].drop_duplicates().sort_values('category_id')\n",
        "    return data, category_id_df"
      ],
      "execution_count": null,
      "outputs": []
    },
    {
      "cell_type": "code",
      "metadata": {
        "id": "0Z-U99Z7HoyZ"
      },
      "source": [
        "# reload your model and use it to make predictions for test text\n",
        "def test_trained_model(model_path, df):\n",
        "    # loading the saved pickle file\n",
        "    saved_model_dic = pickle.load(open(model_path,\"rb\"))\n",
        "    # loading the saved classifier \n",
        "    saved_clf = saved_model_dic['model']\n",
        "    # loading the saved tf-idf vectorizer\n",
        "    saved_vectorizer = saved_model_dic['vectorizer']\n",
        "    features = saved_vectorizer.fit_transform(df.text).toarray() \n",
        "    labels = df.category_id\n",
        "    return labels, saved_clf.predict(features)"
      ],
      "execution_count": null,
      "outputs": []
    },
    {
      "cell_type": "code",
      "metadata": {
        "id": "KrClzHIUHHzq"
      },
      "source": [
        "# load sample test data\n",
        "df, _ = create_dataframe()\n",
        "np.random.seed(42)\n",
        "test = df.sample(5000)"
      ],
      "execution_count": null,
      "outputs": []
    },
    {
      "cell_type": "code",
      "metadata": {
        "id": "kBuk0Cvcqtsj",
        "colab": {
          "base_uri": "https://localhost:8080/"
        },
        "outputId": "5b356921-278d-4ab1-cee1-bd1ce4e2b062"
      },
      "source": [
        "# test model\n",
        "test_labels, new_test_pred  = test_trained_model(\"trained_model.pickle\", test)\n",
        "acc = accuracy_score(test_labels, new_test_pred)\n",
        "pre, rec, f1, _ = precision_recall_fscore_support(test_labels, new_test_pred, average='macro')\n",
        "print('acc', acc)\n",
        "print('precision', pre)\n",
        "print('rec', rec)\n",
        "print('f1', f1)"
      ],
      "execution_count": null,
      "outputs": [
        {
          "output_type": "stream",
          "text": [
            "acc 0.879\n",
            "precision 0.8790945936258244\n",
            "rec 0.8790737874464423\n",
            "f1 0.8789997628395352\n"
          ],
          "name": "stdout"
        }
      ]
    },
    {
      "cell_type": "code",
      "metadata": {
        "id": "2HMTvyOwqtsm"
      },
      "source": [
        ""
      ],
      "execution_count": null,
      "outputs": []
    }
  ]
}